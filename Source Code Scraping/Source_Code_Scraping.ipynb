{
  "nbformat": 4,
  "nbformat_minor": 0,
  "metadata": {
    "colab": {
      "provenance": []
    },
    "kernelspec": {
      "name": "python3",
      "display_name": "Python 3"
    },
    "language_info": {
      "name": "python"
    }
  },
  "cells": [
    {
      "cell_type": "markdown",
      "source": [
        "202010370311391 - Ungga Putra Mahendra\n"
      ],
      "metadata": {
        "id": "oYX8L-GSq7fq"
      }
    },
    {
      "cell_type": "code",
      "source": [
        "!pip install selenium"
      ],
      "metadata": {
        "colab": {
          "base_uri": "https://localhost:8080/"
        },
        "id": "2nlLGivG4kGU",
        "outputId": "0d8e806f-53ed-474d-c015-c6644cb71eed"
      },
      "execution_count": null,
      "outputs": [
        {
          "output_type": "stream",
          "name": "stdout",
          "text": [
            "Collecting selenium\n",
            "  Downloading selenium-4.15.2-py3-none-any.whl (10.2 MB)\n",
            "\u001b[2K     \u001b[90m━━━━━━━━━━━━━━━━━━━━━━━━━━━━━━━━━━━━━━━━\u001b[0m \u001b[32m10.2/10.2 MB\u001b[0m \u001b[31m51.5 MB/s\u001b[0m eta \u001b[36m0:00:00\u001b[0m\n",
            "\u001b[?25hRequirement already satisfied: urllib3[socks]<3,>=1.26 in /usr/local/lib/python3.10/dist-packages (from selenium) (2.0.7)\n",
            "Collecting trio~=0.17 (from selenium)\n",
            "  Downloading trio-0.23.1-py3-none-any.whl (448 kB)\n",
            "\u001b[2K     \u001b[90m━━━━━━━━━━━━━━━━━━━━━━━━━━━━━━━━━━━━━━━━\u001b[0m \u001b[32m448.3/448.3 kB\u001b[0m \u001b[31m34.0 MB/s\u001b[0m eta \u001b[36m0:00:00\u001b[0m\n",
            "\u001b[?25hCollecting trio-websocket~=0.9 (from selenium)\n",
            "  Downloading trio_websocket-0.11.1-py3-none-any.whl (17 kB)\n",
            "Requirement already satisfied: certifi>=2021.10.8 in /usr/local/lib/python3.10/dist-packages (from selenium) (2023.7.22)\n",
            "Requirement already satisfied: attrs>=20.1.0 in /usr/local/lib/python3.10/dist-packages (from trio~=0.17->selenium) (23.1.0)\n",
            "Requirement already satisfied: sortedcontainers in /usr/local/lib/python3.10/dist-packages (from trio~=0.17->selenium) (2.4.0)\n",
            "Requirement already satisfied: idna in /usr/local/lib/python3.10/dist-packages (from trio~=0.17->selenium) (3.4)\n",
            "Collecting outcome (from trio~=0.17->selenium)\n",
            "  Downloading outcome-1.3.0.post0-py2.py3-none-any.whl (10 kB)\n",
            "Requirement already satisfied: sniffio>=1.3.0 in /usr/local/lib/python3.10/dist-packages (from trio~=0.17->selenium) (1.3.0)\n",
            "Requirement already satisfied: exceptiongroup>=1.0.0rc9 in /usr/local/lib/python3.10/dist-packages (from trio~=0.17->selenium) (1.1.3)\n",
            "Collecting wsproto>=0.14 (from trio-websocket~=0.9->selenium)\n",
            "  Downloading wsproto-1.2.0-py3-none-any.whl (24 kB)\n",
            "Requirement already satisfied: pysocks!=1.5.7,<2.0,>=1.5.6 in /usr/local/lib/python3.10/dist-packages (from urllib3[socks]<3,>=1.26->selenium) (1.7.1)\n",
            "Collecting h11<1,>=0.9.0 (from wsproto>=0.14->trio-websocket~=0.9->selenium)\n",
            "  Downloading h11-0.14.0-py3-none-any.whl (58 kB)\n",
            "\u001b[2K     \u001b[90m━━━━━━━━━━━━━━━━━━━━━━━━━━━━━━━━━━━━━━━━\u001b[0m \u001b[32m58.3/58.3 kB\u001b[0m \u001b[31m6.8 MB/s\u001b[0m eta \u001b[36m0:00:00\u001b[0m\n",
            "\u001b[?25hInstalling collected packages: outcome, h11, wsproto, trio, trio-websocket, selenium\n",
            "Successfully installed h11-0.14.0 outcome-1.3.0.post0 selenium-4.15.2 trio-0.23.1 trio-websocket-0.11.1 wsproto-1.2.0\n"
          ]
        }
      ]
    },
    {
      "cell_type": "code",
      "source": [
        "pip install requests"
      ],
      "metadata": {
        "colab": {
          "base_uri": "https://localhost:8080/"
        },
        "id": "IsSY2TLjxILD",
        "outputId": "05f90e9c-d8ec-43cb-b188-2167d073a859"
      },
      "execution_count": null,
      "outputs": [
        {
          "output_type": "stream",
          "name": "stdout",
          "text": [
            "Requirement already satisfied: requests in /usr/local/lib/python3.10/dist-packages (2.31.0)\n",
            "Requirement already satisfied: charset-normalizer<4,>=2 in /usr/local/lib/python3.10/dist-packages (from requests) (3.3.2)\n",
            "Requirement already satisfied: idna<4,>=2.5 in /usr/local/lib/python3.10/dist-packages (from requests) (3.4)\n",
            "Requirement already satisfied: urllib3<3,>=1.21.1 in /usr/local/lib/python3.10/dist-packages (from requests) (2.0.7)\n",
            "Requirement already satisfied: certifi>=2017.4.17 in /usr/local/lib/python3.10/dist-packages (from requests) (2023.7.22)\n"
          ]
        }
      ]
    },
    {
      "cell_type": "code",
      "source": [
        "pip install tqdm"
      ],
      "metadata": {
        "colab": {
          "base_uri": "https://localhost:8080/"
        },
        "id": "DpsC27OrxKiV",
        "outputId": "0967ab78-7fcb-4d8e-def3-8b8650814ebc"
      },
      "execution_count": null,
      "outputs": [
        {
          "output_type": "stream",
          "name": "stdout",
          "text": [
            "Requirement already satisfied: tqdm in /usr/local/lib/python3.10/dist-packages (4.66.1)\n"
          ]
        }
      ]
    },
    {
      "cell_type": "code",
      "source": [
        "%%shell\n",
        "\n",
        "# Add debian buster\n",
        "cat > /etc/apt/sources.list.d/debian.list <<'EOF'\n",
        "deb [arch=amd64 signed-by=/usr/share/keyrings/debian-buster.gpg] http://deb.debian.org/debian buster main\n",
        "deb [arch=amd64 signed-by=/usr/share/keyrings/debian-buster-updates.gpg] http://deb.debian.org/debian buster-updates main\n",
        "deb [arch=amd64 signed-by=/usr/share/keyrings/debian-security-buster.gpg] http://deb.debian.org/debian-security buster/updates main\n",
        "EOF\n",
        "\n",
        "# Add keys\n",
        "apt-key adv --keyserver keyserver.ubuntu.com --recv-keys DCC9EFBF77E11517\n",
        "apt-key adv --keyserver keyserver.ubuntu.com --recv-keys 648ACFD622F3D138\n",
        "apt-key adv --keyserver keyserver.ubuntu.com --recv-keys 112695A0E562B32A\n",
        "\n",
        "apt-key export 77E11517 | gpg --dearmour -o /usr/share/keyrings/debian-buster.gpg\n",
        "apt-key export 22F3D138 | gpg --dearmour -o /usr/share/keyrings/debian-buster-updates.gpg\n",
        "apt-key export E562B32A | gpg --dearmour -o /usr/share/keyrings/debian-security-buster.gpg\n",
        "\n",
        "# Prefer debian repo for chromium* packages only\n",
        "# Note the double-blank lines between entries\n",
        "cat > /etc/apt/preferences.d/chromium.pref << 'EOF'\n",
        "Package: *\n",
        "Pin: release a=eoan\n",
        "Pin-Priority: 500\n",
        "\n",
        "\n",
        "Package: *\n",
        "Pin: origin \"deb.debian.org\"\n",
        "Pin-Priority: 300\n",
        "\n",
        "\n",
        "Package: chromium*\n",
        "Pin: origin \"deb.debian.org\"\n",
        "Pin-Priority: 700\n",
        "EOF\n"
      ],
      "metadata": {
        "colab": {
          "base_uri": "https://localhost:8080/"
        },
        "id": "jHEG0CPh4wFF",
        "outputId": "b975984f-1284-41c1-abeb-f6b5eb64497e"
      },
      "execution_count": null,
      "outputs": [
        {
          "output_type": "stream",
          "name": "stdout",
          "text": [
            "Warning: apt-key is deprecated. Manage keyring files in trusted.gpg.d instead (see apt-key(8)).\n",
            "Executing: /tmp/apt-key-gpghome.cjhyq6s9Ho/gpg.1.sh --keyserver keyserver.ubuntu.com --recv-keys DCC9EFBF77E11517\n",
            "gpg: key DCC9EFBF77E11517: public key \"Debian Stable Release Key (10/buster) <debian-release@lists.debian.org>\" imported\n",
            "gpg: Total number processed: 1\n",
            "gpg:               imported: 1\n",
            "Warning: apt-key is deprecated. Manage keyring files in trusted.gpg.d instead (see apt-key(8)).\n",
            "Executing: /tmp/apt-key-gpghome.3JCWtSTiN1/gpg.1.sh --keyserver keyserver.ubuntu.com --recv-keys 648ACFD622F3D138\n",
            "gpg: key DC30D7C23CBBABEE: public key \"Debian Archive Automatic Signing Key (10/buster) <ftpmaster@debian.org>\" imported\n",
            "gpg: Total number processed: 1\n",
            "gpg:               imported: 1\n",
            "Warning: apt-key is deprecated. Manage keyring files in trusted.gpg.d instead (see apt-key(8)).\n",
            "Executing: /tmp/apt-key-gpghome.p6ESw0mtFn/gpg.1.sh --keyserver keyserver.ubuntu.com --recv-keys 112695A0E562B32A\n",
            "gpg: key 4DFAB270CAA96DFA: public key \"Debian Security Archive Automatic Signing Key (10/buster) <ftpmaster@debian.org>\" imported\n",
            "gpg: Total number processed: 1\n",
            "gpg:               imported: 1\n",
            "Warning: apt-key is deprecated. Manage keyring files in trusted.gpg.d instead (see apt-key(8)).\n",
            "Warning: apt-key is deprecated. Manage keyring files in trusted.gpg.d instead (see apt-key(8)).\n",
            "Warning: apt-key is deprecated. Manage keyring files in trusted.gpg.d instead (see apt-key(8)).\n"
          ]
        },
        {
          "output_type": "execute_result",
          "data": {
            "text/plain": []
          },
          "metadata": {},
          "execution_count": 4
        }
      ]
    },
    {
      "cell_type": "code",
      "source": [
        "!apt-get update\n",
        "!apt-get install chromium chromium-driver"
      ],
      "metadata": {
        "colab": {
          "base_uri": "https://localhost:8080/"
        },
        "id": "_KS5n_3J40-t",
        "outputId": "4de9b077-bc33-4688-f215-d0f1bd532004"
      },
      "execution_count": null,
      "outputs": [
        {
          "output_type": "stream",
          "name": "stdout",
          "text": [
            "\r0% [Working]\r            \rGet:1 http://deb.debian.org/debian buster InRelease [122 kB]\n",
            "\r0% [Connecting to archive.ubuntu.com (185.125.190.36)] [Waiting for headers] [Connected to cloud.r-p\r                                                                                                    \rGet:2 http://security.ubuntu.com/ubuntu jammy-security InRelease [110 kB]\n",
            "\r0% [Connecting to archive.ubuntu.com (185.125.190.36)] [2 InRelease 0 B/110 kB 0%] [Connected to clo\r0% [Connecting to archive.ubuntu.com (185.125.190.36)] [2 InRelease 14.2 kB/110 kB 13%] [Connected t\r                                                                                                    \rGet:3 http://deb.debian.org/debian buster-updates InRelease [56.6 kB]\n",
            "\r0% [Connecting to archive.ubuntu.com (185.125.190.36)] [2 InRelease 14.2 kB/110 kB 13%] [Waiting for\r                                                                                                    \rGet:4 http://deb.debian.org/debian-security buster/updates InRelease [34.8 kB]\n",
            "\r0% [Connecting to archive.ubuntu.com (185.125.190.36)] [2 InRelease 22.9 kB/110 kB 21%] [Waiting for\r0% [Connecting to archive.ubuntu.com (185.125.190.36)] [2 InRelease 22.9 kB/110 kB 21%] [Waiting for\r                                                                                                    \rGet:5 https://cloud.r-project.org/bin/linux/ubuntu jammy-cran40/ InRelease [3,626 B]\n",
            "\r0% [Connecting to archive.ubuntu.com (185.125.190.36)] [2 InRelease 48.9 kB/110 kB 44%] [Connecting \r                                                                                                    \rHit:6 https://developer.download.nvidia.com/compute/cuda/repos/ubuntu2204/x86_64  InRelease\n",
            "\r0% [Waiting for headers] [2 InRelease 63.4 kB/110 kB 57%] [Connected to ppa.launchpadcontent.net (18\r                                                                                                    \r0% [Waiting for headers] [Connected to ppa.launchpadcontent.net (185.125.190.52)]\r0% [Waiting for headers] [Connected to ppa.launchpadcontent.net (185.125.190.52)]\r                                                                                 \rGet:7 http://deb.debian.org/debian buster/main amd64 Packages [10.7 MB]\n",
            "Hit:8 http://archive.ubuntu.com/ubuntu jammy InRelease\n",
            "Get:9 http://archive.ubuntu.com/ubuntu jammy-updates InRelease [119 kB]\n",
            "Get:10 http://deb.debian.org/debian buster-updates/main amd64 Packages [9,745 B]\n",
            "Get:11 http://deb.debian.org/debian-security buster/updates/main amd64 Packages [738 kB]\n",
            "Get:12 https://ppa.launchpadcontent.net/c2d4u.team/c2d4u4.0+/ubuntu jammy InRelease [18.1 kB]\n",
            "Get:13 https://cloud.r-project.org/bin/linux/ubuntu jammy-cran40/ Packages [46.8 kB]\n",
            "Get:14 http://archive.ubuntu.com/ubuntu jammy-backports InRelease [109 kB]\n",
            "Hit:15 https://ppa.launchpadcontent.net/deadsnakes/ppa/ubuntu jammy InRelease\n",
            "Get:16 http://security.ubuntu.com/ubuntu jammy-security/main amd64 Packages [1,194 kB]\n",
            "Hit:17 https://ppa.launchpadcontent.net/graphics-drivers/ppa/ubuntu jammy InRelease\n",
            "Get:18 http://archive.ubuntu.com/ubuntu jammy-updates/universe amd64 Packages [1,274 kB]\n",
            "Hit:19 https://ppa.launchpadcontent.net/ubuntugis/ppa/ubuntu jammy InRelease\n",
            "Get:20 http://archive.ubuntu.com/ubuntu jammy-updates/restricted amd64 Packages [1,420 kB]\n",
            "Get:21 https://ppa.launchpadcontent.net/c2d4u.team/c2d4u4.0+/ubuntu jammy/main Sources [2,241 kB]\n",
            "Get:22 http://archive.ubuntu.com/ubuntu jammy-updates/main amd64 Packages [1,466 kB]\n",
            "Get:23 https://ppa.launchpadcontent.net/c2d4u.team/c2d4u4.0+/ubuntu jammy/main amd64 Packages [1,150 kB]\n",
            "Fetched 20.9 MB in 4s (5,262 kB/s)\n",
            "Reading package lists... Done\n",
            "Reading package lists... Done\n",
            "Building dependency tree... Done\n",
            "Reading state information... Done\n",
            "The following additional packages will be installed:\n",
            "  chromium-common chromium-sandbox libevent-2.1-6 libfontenc1 libgudev-1.0-0 libicu63\n",
            "  libimobiledevice6 libjpeg62-turbo libjsoncpp1 libplist3 libre2-5 libu2f-udev libudev1\n",
            "  libupower-glib3 libusbmuxd6 libvpx5 libwebp6 libxkbfile1 libxtst6 libxxf86dga1\n",
            "  notification-daemon systemd-hwe-hwdb udev upower usbmuxd x11-utils\n",
            "Suggested packages:\n",
            "  chromium-l10n chromium-shell libusbmuxd-tools mesa-utils\n",
            "The following NEW packages will be installed:\n",
            "  chromium chromium-common chromium-driver chromium-sandbox libevent-2.1-6 libfontenc1\n",
            "  libgudev-1.0-0 libicu63 libimobiledevice6 libjpeg62-turbo libjsoncpp1 libplist3 libre2-5\n",
            "  libu2f-udev libupower-glib3 libusbmuxd6 libvpx5 libwebp6 libxkbfile1 libxtst6 libxxf86dga1\n",
            "  notification-daemon systemd-hwe-hwdb udev upower usbmuxd x11-utils\n",
            "The following packages will be upgraded:\n",
            "  libudev1\n",
            "1 upgraded, 27 newly installed, 0 to remove and 20 not upgraded.\n",
            "Need to get 76.8 MB of archives.\n",
            "After this operation, 267 MB of additional disk space will be used.\n",
            "Get:1 http://deb.debian.org/debian buster/main amd64 libevent-2.1-6 amd64 2.1.8-stable-4 [177 kB]\n",
            "Get:2 http://deb.debian.org/debian buster/main amd64 libicu63 amd64 63.1-6+deb10u3 [8,293 kB]\n",
            "Get:3 http://deb.debian.org/debian buster/main amd64 libjpeg62-turbo amd64 1:1.5.2-2+deb10u1 [133 kB]\n",
            "Get:4 http://deb.debian.org/debian buster/main amd64 libjsoncpp1 amd64 1.7.4-3 [75.6 kB]\n",
            "Get:5 http://deb.debian.org/debian buster/main amd64 libre2-5 amd64 20190101+dfsg-2 [161 kB]\n",
            "Get:6 http://deb.debian.org/debian-security buster/updates/main amd64 libvpx5 amd64 1.7.0-3+deb10u2 [800 kB]\n",
            "Get:7 http://deb.debian.org/debian-security buster/updates/main amd64 libwebp6 amd64 0.6.1-2+deb10u3 [263 kB]\n",
            "Get:8 http://deb.debian.org/debian buster/main amd64 chromium-common amd64 90.0.4430.212-1~deb10u1 [1,423 kB]\n",
            "Get:9 http://deb.debian.org/debian buster/main amd64 chromium amd64 90.0.4430.212-1~deb10u1 [58.3 MB]\n",
            "Get:10 http://archive.ubuntu.com/ubuntu jammy-updates/main amd64 libudev1 amd64 249.11-0ubuntu3.11 [78.0 kB]\n",
            "Get:11 http://archive.ubuntu.com/ubuntu jammy-updates/main amd64 udev amd64 249.11-0ubuntu3.11 [1,557 kB]\n",
            "Get:12 http://deb.debian.org/debian buster/main amd64 chromium-driver amd64 90.0.4430.212-1~deb10u1 [4,703 kB]\n",
            "Get:13 http://deb.debian.org/debian buster/main amd64 chromium-sandbox amd64 90.0.4430.212-1~deb10u1 [146 kB]\n",
            "Get:14 http://archive.ubuntu.com/ubuntu jammy/main amd64 libfontenc1 amd64 1:1.1.4-1build3 [14.7 kB]\n",
            "Get:15 http://archive.ubuntu.com/ubuntu jammy/main amd64 libxkbfile1 amd64 1:1.1.0-1build3 [71.8 kB]\n",
            "Get:16 http://archive.ubuntu.com/ubuntu jammy/main amd64 libxtst6 amd64 2:1.2.3-1build4 [13.4 kB]\n",
            "Get:17 http://archive.ubuntu.com/ubuntu jammy/main amd64 libxxf86dga1 amd64 2:1.1.5-0ubuntu3 [12.6 kB]\n",
            "Get:18 http://archive.ubuntu.com/ubuntu jammy/main amd64 x11-utils amd64 7.7+5build2 [206 kB]\n",
            "Get:19 http://archive.ubuntu.com/ubuntu jammy/main amd64 libgudev-1.0-0 amd64 1:237-2build1 [16.3 kB]\n",
            "Get:20 http://archive.ubuntu.com/ubuntu jammy/main amd64 libplist3 amd64 2.2.0-6build2 [32.1 kB]\n",
            "Get:21 http://archive.ubuntu.com/ubuntu jammy/main amd64 libusbmuxd6 amd64 2.0.2-3build2 [20.4 kB]\n",
            "Get:22 http://archive.ubuntu.com/ubuntu jammy/main amd64 libimobiledevice6 amd64 1.3.0-6build3 [71.1 kB]\n",
            "Get:23 http://archive.ubuntu.com/ubuntu jammy/main amd64 libu2f-udev all 1.1.10-3build2 [4,190 B]\n",
            "Get:24 http://archive.ubuntu.com/ubuntu jammy/main amd64 libupower-glib3 amd64 0.99.17-1 [46.7 kB]\n",
            "Get:25 http://archive.ubuntu.com/ubuntu jammy/universe amd64 notification-daemon amd64 3.20.0-4build1 [57.6 kB]\n",
            "Get:26 http://archive.ubuntu.com/ubuntu jammy-updates/main amd64 systemd-hwe-hwdb all 249.11.3 [2,908 B]\n",
            "Get:27 http://archive.ubuntu.com/ubuntu jammy/main amd64 upower amd64 0.99.17-1 [86.7 kB]\n",
            "Get:28 http://archive.ubuntu.com/ubuntu jammy/main amd64 usbmuxd amd64 1.1.1-2build2 [42.8 kB]\n",
            "Fetched 76.8 MB in 2s (45.7 MB/s)\n",
            "(Reading database ... 120874 files and directories currently installed.)\n",
            "Preparing to unpack .../libudev1_249.11-0ubuntu3.11_amd64.deb ...\n",
            "Unpacking libudev1:amd64 (249.11-0ubuntu3.11) over (249.11-0ubuntu3.9) ...\n",
            "Setting up libudev1:amd64 (249.11-0ubuntu3.11) ...\n",
            "Selecting previously unselected package udev.\n",
            "(Reading database ... 120874 files and directories currently installed.)\n",
            "Preparing to unpack .../00-udev_249.11-0ubuntu3.11_amd64.deb ...\n",
            "Unpacking udev (249.11-0ubuntu3.11) ...\n",
            "Selecting previously unselected package libevent-2.1-6:amd64.\n",
            "Preparing to unpack .../01-libevent-2.1-6_2.1.8-stable-4_amd64.deb ...\n",
            "Unpacking libevent-2.1-6:amd64 (2.1.8-stable-4) ...\n",
            "Selecting previously unselected package libicu63:amd64.\n",
            "Preparing to unpack .../02-libicu63_63.1-6+deb10u3_amd64.deb ...\n",
            "Unpacking libicu63:amd64 (63.1-6+deb10u3) ...\n",
            "Selecting previously unselected package libjpeg62-turbo:amd64.\n",
            "Preparing to unpack .../03-libjpeg62-turbo_1%3a1.5.2-2+deb10u1_amd64.deb ...\n",
            "Unpacking libjpeg62-turbo:amd64 (1:1.5.2-2+deb10u1) ...\n",
            "Selecting previously unselected package libjsoncpp1:amd64.\n",
            "Preparing to unpack .../04-libjsoncpp1_1.7.4-3_amd64.deb ...\n",
            "Unpacking libjsoncpp1:amd64 (1.7.4-3) ...\n",
            "Selecting previously unselected package libre2-5:amd64.\n",
            "Preparing to unpack .../05-libre2-5_20190101+dfsg-2_amd64.deb ...\n",
            "Unpacking libre2-5:amd64 (20190101+dfsg-2) ...\n",
            "Selecting previously unselected package libvpx5:amd64.\n",
            "Preparing to unpack .../06-libvpx5_1.7.0-3+deb10u2_amd64.deb ...\n",
            "Unpacking libvpx5:amd64 (1.7.0-3+deb10u2) ...\n",
            "Selecting previously unselected package libwebp6:amd64.\n",
            "Preparing to unpack .../07-libwebp6_0.6.1-2+deb10u3_amd64.deb ...\n",
            "Unpacking libwebp6:amd64 (0.6.1-2+deb10u3) ...\n",
            "Selecting previously unselected package libfontenc1:amd64.\n",
            "Preparing to unpack .../08-libfontenc1_1%3a1.1.4-1build3_amd64.deb ...\n",
            "Unpacking libfontenc1:amd64 (1:1.1.4-1build3) ...\n",
            "Selecting previously unselected package libxkbfile1:amd64.\n",
            "Preparing to unpack .../09-libxkbfile1_1%3a1.1.0-1build3_amd64.deb ...\n",
            "Unpacking libxkbfile1:amd64 (1:1.1.0-1build3) ...\n",
            "Selecting previously unselected package libxtst6:amd64.\n",
            "Preparing to unpack .../10-libxtst6_2%3a1.2.3-1build4_amd64.deb ...\n",
            "Unpacking libxtst6:amd64 (2:1.2.3-1build4) ...\n",
            "Selecting previously unselected package libxxf86dga1:amd64.\n",
            "Preparing to unpack .../11-libxxf86dga1_2%3a1.1.5-0ubuntu3_amd64.deb ...\n",
            "Unpacking libxxf86dga1:amd64 (2:1.1.5-0ubuntu3) ...\n",
            "Selecting previously unselected package x11-utils.\n",
            "Preparing to unpack .../12-x11-utils_7.7+5build2_amd64.deb ...\n",
            "Unpacking x11-utils (7.7+5build2) ...\n",
            "Selecting previously unselected package chromium-common.\n",
            "Preparing to unpack .../13-chromium-common_90.0.4430.212-1~deb10u1_amd64.deb ...\n",
            "Unpacking chromium-common (90.0.4430.212-1~deb10u1) ...\n",
            "Selecting previously unselected package chromium.\n",
            "Preparing to unpack .../14-chromium_90.0.4430.212-1~deb10u1_amd64.deb ...\n",
            "Unpacking chromium (90.0.4430.212-1~deb10u1) ...\n",
            "Selecting previously unselected package chromium-driver.\n",
            "Preparing to unpack .../15-chromium-driver_90.0.4430.212-1~deb10u1_amd64.deb ...\n",
            "Unpacking chromium-driver (90.0.4430.212-1~deb10u1) ...\n",
            "Selecting previously unselected package chromium-sandbox.\n",
            "Preparing to unpack .../16-chromium-sandbox_90.0.4430.212-1~deb10u1_amd64.deb ...\n",
            "Unpacking chromium-sandbox (90.0.4430.212-1~deb10u1) ...\n",
            "Selecting previously unselected package libgudev-1.0-0:amd64.\n",
            "Preparing to unpack .../17-libgudev-1.0-0_1%3a237-2build1_amd64.deb ...\n",
            "Unpacking libgudev-1.0-0:amd64 (1:237-2build1) ...\n",
            "Selecting previously unselected package libplist3:amd64.\n",
            "Preparing to unpack .../18-libplist3_2.2.0-6build2_amd64.deb ...\n",
            "Unpacking libplist3:amd64 (2.2.0-6build2) ...\n",
            "Selecting previously unselected package libusbmuxd6:amd64.\n",
            "Preparing to unpack .../19-libusbmuxd6_2.0.2-3build2_amd64.deb ...\n",
            "Unpacking libusbmuxd6:amd64 (2.0.2-3build2) ...\n",
            "Selecting previously unselected package libimobiledevice6:amd64.\n",
            "Preparing to unpack .../20-libimobiledevice6_1.3.0-6build3_amd64.deb ...\n",
            "Unpacking libimobiledevice6:amd64 (1.3.0-6build3) ...\n",
            "Selecting previously unselected package libu2f-udev.\n",
            "Preparing to unpack .../21-libu2f-udev_1.1.10-3build2_all.deb ...\n",
            "Unpacking libu2f-udev (1.1.10-3build2) ...\n",
            "Selecting previously unselected package libupower-glib3:amd64.\n",
            "Preparing to unpack .../22-libupower-glib3_0.99.17-1_amd64.deb ...\n",
            "Unpacking libupower-glib3:amd64 (0.99.17-1) ...\n",
            "Selecting previously unselected package notification-daemon.\n",
            "Preparing to unpack .../23-notification-daemon_3.20.0-4build1_amd64.deb ...\n",
            "Unpacking notification-daemon (3.20.0-4build1) ...\n",
            "Selecting previously unselected package systemd-hwe-hwdb.\n",
            "Preparing to unpack .../24-systemd-hwe-hwdb_249.11.3_all.deb ...\n",
            "Unpacking systemd-hwe-hwdb (249.11.3) ...\n",
            "Selecting previously unselected package upower.\n",
            "Preparing to unpack .../25-upower_0.99.17-1_amd64.deb ...\n",
            "Unpacking upower (0.99.17-1) ...\n",
            "Selecting previously unselected package usbmuxd.\n",
            "Preparing to unpack .../26-usbmuxd_1.1.1-2build2_amd64.deb ...\n",
            "Unpacking usbmuxd (1.1.1-2build2) ...\n",
            "Setting up libplist3:amd64 (2.2.0-6build2) ...\n",
            "Setting up libxtst6:amd64 (2:1.2.3-1build4) ...\n",
            "Setting up libxxf86dga1:amd64 (2:1.1.5-0ubuntu3) ...\n",
            "Setting up chromium-sandbox (90.0.4430.212-1~deb10u1) ...\n",
            "Setting up libicu63:amd64 (63.1-6+deb10u3) ...\n",
            "Setting up notification-daemon (3.20.0-4build1) ...\n",
            "Setting up libfontenc1:amd64 (1:1.1.4-1build3) ...\n",
            "Setting up libjpeg62-turbo:amd64 (1:1.5.2-2+deb10u1) ...\n",
            "Setting up udev (249.11-0ubuntu3.11) ...\n",
            "invoke-rc.d: could not determine current runlevel\n",
            "invoke-rc.d: policy-rc.d denied execution of start.\n",
            "Setting up libwebp6:amd64 (0.6.1-2+deb10u3) ...\n",
            "Setting up libevent-2.1-6:amd64 (2.1.8-stable-4) ...\n",
            "Setting up systemd-hwe-hwdb (249.11.3) ...\n",
            "Setting up libusbmuxd6:amd64 (2.0.2-3build2) ...\n",
            "Setting up libupower-glib3:amd64 (0.99.17-1) ...\n",
            "Setting up libre2-5:amd64 (20190101+dfsg-2) ...\n",
            "Setting up libxkbfile1:amd64 (1:1.1.0-1build3) ...\n",
            "Setting up libimobiledevice6:amd64 (1.3.0-6build3) ...\n",
            "Setting up libgudev-1.0-0:amd64 (1:237-2build1) ...\n",
            "Setting up libvpx5:amd64 (1.7.0-3+deb10u2) ...\n",
            "Setting up libjsoncpp1:amd64 (1.7.4-3) ...\n",
            "Setting up libu2f-udev (1.1.10-3build2) ...\n",
            "Setting up upower (0.99.17-1) ...\n",
            "Setting up usbmuxd (1.1.1-2build2) ...\n",
            "Warning: The home dir /var/lib/usbmux you specified can't be accessed: No such file or directory\n",
            "Adding system user `usbmux' (UID 104) ...\n",
            "Adding new user `usbmux' (UID 104) with group `plugdev' ...\n",
            "Not creating home directory `/var/lib/usbmux'.\n",
            "Setting up x11-utils (7.7+5build2) ...\n",
            "Setting up chromium-common (90.0.4430.212-1~deb10u1) ...\n",
            "Setting up chromium (90.0.4430.212-1~deb10u1) ...\n",
            "update-alternatives: using /usr/bin/chromium to provide /usr/bin/x-www-browser (x-www-browser) in auto mode\n",
            "update-alternatives: using /usr/bin/chromium to provide /usr/bin/gnome-www-browser (gnome-www-browser) in auto mode\n",
            "Setting up chromium-driver (90.0.4430.212-1~deb10u1) ...\n",
            "Processing triggers for man-db (2.10.2-1) ...\n",
            "Processing triggers for dbus (1.12.20-2ubuntu4.1) ...\n",
            "Processing triggers for hicolor-icon-theme (0.17-2) ...\n",
            "Processing triggers for libc-bin (2.35-0ubuntu3.1) ...\n",
            "/sbin/ldconfig.real: /usr/local/lib/libtbb.so.12 is not a symbolic link\n",
            "\n",
            "/sbin/ldconfig.real: /usr/local/lib/libtbbbind.so.3 is not a symbolic link\n",
            "\n",
            "/sbin/ldconfig.real: /usr/local/lib/libtbbbind_2_5.so.3 is not a symbolic link\n",
            "\n",
            "/sbin/ldconfig.real: /usr/local/lib/libtbbbind_2_0.so.3 is not a symbolic link\n",
            "\n",
            "/sbin/ldconfig.real: /usr/local/lib/libtbbmalloc_proxy.so.2 is not a symbolic link\n",
            "\n",
            "/sbin/ldconfig.real: /usr/local/lib/libtbbmalloc.so.2 is not a symbolic link\n",
            "\n"
          ]
        }
      ]
    },
    {
      "cell_type": "code",
      "source": [
        "from selenium import webdriver\n",
        "from selenium.webdriver.common.keys import Keys\n",
        "from selenium.webdriver.common.by import By\n",
        "from selenium.common.exceptions import StaleElementReferenceException\n",
        "from tqdm import tqdm\n",
        "import os\n",
        "import sys\n",
        "from pathlib import Path\n",
        "import requests\n",
        "import threading"
      ],
      "metadata": {
        "id": "3Hh3MYonAgZB"
      },
      "execution_count": null,
      "outputs": []
    },
    {
      "cell_type": "code",
      "source": [
        "# Setup Chrome options\n",
        "chrome_options = webdriver.ChromeOptions()\n",
        "chrome_options.add_argument('--no-sandbox')\n",
        "chrome_options.add_argument('--headless')\n",
        "chrome_options.add_argument('--disable-gpu')\n",
        "\n",
        "# Buat instance WebDriver\n",
        "driver = webdriver.Chrome(options=chrome_options)"
      ],
      "metadata": {
        "id": "iQJ4ZRuHOBcb"
      },
      "execution_count": null,
      "outputs": []
    },
    {
      "cell_type": "code",
      "source": [
        "main_url = 'https://putusan3.mahkamahagung.go.id/direktori/index/pengadilan/pn-madiun/kategori/narkotika-dan-psikotropika-1/tahunjenis/upload/tahun/2022'\n",
        "# Variable pages digunakan untuk menyimpan semua page yang ditemukan pada URL utama\n",
        "pages = set()\n",
        "\n",
        "def main_func(url):\n",
        "  temp = set()\n",
        "  driver.get(url)\n",
        "  all_links = driver.find_elements(By.CLASS_NAME, 'entry-c')\n",
        "\n",
        "  # Loop melalui setiap elemen yang ditemukan\n",
        "  for link in all_links:\n",
        "    strong_elements = link.find_elements(By.TAG_NAME, 'strong')\n",
        "\n",
        "    for strong_element in strong_elements:\n",
        "      a_elements = strong_element.find_elements(By.TAG_NAME, 'a')\n",
        "\n",
        "      for a_element in a_elements:\n",
        "        page_url = a_element.get_attribute('href')\n",
        "\n",
        "        if page_url:\n",
        "          temp.add(page_url)\n",
        "\n",
        "  return temp\n",
        "\n",
        "pages = pages | main_func(main_url)"
      ],
      "metadata": {
        "id": "b9WuhKPwv3Yx"
      },
      "execution_count": null,
      "outputs": []
    },
    {
      "cell_type": "code",
      "source": [
        "for i in range(2, 5):\n",
        "  temp_url = f'{main_url}/page/{i}.html'\n",
        "  pages = pages | main_func(temp_url)\n",
        "\n",
        "# Cetak semua URL yang telah ditemukan\n",
        "for page in pages:\n",
        "  print(page)"
      ],
      "metadata": {
        "colab": {
          "base_uri": "https://localhost:8080/"
        },
        "id": "WKLY3Spgw-a9",
        "outputId": "5dfe80a3-02bb-4109-af37-e5d7ad696932"
      },
      "execution_count": null,
      "outputs": [
        {
          "output_type": "stream",
          "name": "stdout",
          "text": [
            "https://putusan3.mahkamahagung.go.id/direktori/putusan/zaed42daa82ee1cca6af313231373231.html\n",
            "https://putusan3.mahkamahagung.go.id/direktori/putusan/zaed28f77b97278eb04c313333383131.html\n",
            "https://putusan3.mahkamahagung.go.id/direktori/putusan/zaecf5eb30bbd64a945a313433313432.html\n",
            "https://putusan3.mahkamahagung.go.id/direktori/putusan/zaed74717a47f2449d0b313435303235.html\n",
            "https://putusan3.mahkamahagung.go.id/direktori/putusan/zaed859bbd739ed484ac313130353436.html\n",
            "https://putusan3.mahkamahagung.go.id/direktori/putusan/zaed6bcbde996ccc906f313434343437.html\n",
            "https://putusan3.mahkamahagung.go.id/direktori/putusan/zaed1d034a759ece9a56303833323238.html\n",
            "https://putusan3.mahkamahagung.go.id/direktori/putusan/zaed49f6a20bbfd69578313332353134.html\n",
            "https://putusan3.mahkamahagung.go.id/direktori/putusan/zaeca98577de040698d7303931323034.html\n",
            "https://putusan3.mahkamahagung.go.id/direktori/putusan/zaeca4e9497dd46aad27313232343030.html\n",
            "https://putusan3.mahkamahagung.go.id/direktori/putusan/zaec79c656bfa7e69888313435353330.html\n",
            "https://putusan3.mahkamahagung.go.id/direktori/putusan/zaed59bd547f2754ac35313531353231.html\n",
            "https://putusan3.mahkamahagung.go.id/direktori/putusan/zaed28f76ad0abfaaf2d313333373433.html\n",
            "https://putusan3.mahkamahagung.go.id/direktori/putusan/zaed49f693f41a88ada0313332343531.html\n",
            "https://putusan3.mahkamahagung.go.id/direktori/putusan/zaecf5eb26de726886b8313433313235.html\n",
            "https://putusan3.mahkamahagung.go.id/direktori/putusan/zaed28f76c94ac168dab313333373436.html\n",
            "https://putusan3.mahkamahagung.go.id/direktori/putusan/zaec79c65d3af8789553313435353431.html\n",
            "https://putusan3.mahkamahagung.go.id/direktori/putusan/zaed65872b23fc388a83313531373533.html\n",
            "https://putusan3.mahkamahagung.go.id/direktori/putusan/zaed859b93dc6ca4ac94313130343336.html\n",
            "https://putusan3.mahkamahagung.go.id/direktori/putusan/zaed59bd805545c090a0313531363335.html\n",
            "https://putusan3.mahkamahagung.go.id/direktori/putusan/zaed389a389af8b8a174313131303534.html\n",
            "https://putusan3.mahkamahagung.go.id/direktori/putusan/zaed59bd6b8b1fdeb400313531363030.html\n",
            "https://putusan3.mahkamahagung.go.id/direktori/putusan/zaed45ef85c858f890e2313032343136.html\n",
            "https://putusan3.mahkamahagung.go.id/direktori/putusan/zaed389a2f6437149d94313131303338.html\n",
            "https://putusan3.mahkamahagung.go.id/direktori/putusan/zaed776a6331ff7ca087303933373133.html\n",
            "https://putusan3.mahkamahagung.go.id/direktori/putusan/zaecf102b6178ae8a28b303833373238.html\n",
            "https://putusan3.mahkamahagung.go.id/direktori/putusan/zaed49f6924d645abfd2313332343438.html\n",
            "https://putusan3.mahkamahagung.go.id/direktori/putusan/zaed28f76f2ed816a222313333373530.html\n",
            "https://putusan3.mahkamahagung.go.id/direktori/putusan/zaeca4e94ad0e762a6dd313232343033.html\n",
            "https://putusan3.mahkamahagung.go.id/direktori/putusan/zaeca9857a671992b6c2303931323039.html\n",
            "https://putusan3.mahkamahagung.go.id/direktori/putusan/zaed0be1fa3cc86aaa95313332313131.html\n",
            "https://putusan3.mahkamahagung.go.id/direktori/putusan/zaed28f76ba92dae80e5313333373434.html\n",
            "https://putusan3.mahkamahagung.go.id/direktori/putusan/zaed034dd214968e98ad313532303239.html\n",
            "https://putusan3.mahkamahagung.go.id/direktori/putusan/zaeca9856e18512ebb5f303931313438.html\n",
            "https://putusan3.mahkamahagung.go.id/direktori/putusan/zaec79c67aa836a09ce9313435363330.html\n",
            "https://putusan3.mahkamahagung.go.id/direktori/putusan/zaed0cb1d3b82d9494a9313430393031.html\n",
            "https://putusan3.mahkamahagung.go.id/direktori/putusan/zaecf780db3140e29831313435353334.html\n",
            "https://putusan3.mahkamahagung.go.id/direktori/putusan/zaecf780d4cd7586bb5b313435353233.html\n",
            "https://putusan3.mahkamahagung.go.id/direktori/putusan/zaed6bcbe62ead44a374313434353030.html\n",
            "https://putusan3.mahkamahagung.go.id/direktori/putusan/zaecf5eb155a96f29881313433303536.html\n",
            "https://putusan3.mahkamahagung.go.id/direktori/putusan/zaecf103095c1516951c303833393438.html\n",
            "https://putusan3.mahkamahagung.go.id/direktori/putusan/zaeca98573c04b228150303931313537.html\n",
            "https://putusan3.mahkamahagung.go.id/direktori/putusan/zaed0cb1c4fe9ec88a79313430383337.html\n",
            "https://putusan3.mahkamahagung.go.id/direktori/putusan/zaeca985630e48929116303931313239.html\n",
            "https://putusan3.mahkamahagung.go.id/direktori/putusan/zaecf5eb24e3beb48eef313433313232.html\n",
            "https://putusan3.mahkamahagung.go.id/direktori/putusan/zaecf5eb38b90f8484b5313433313535.html\n",
            "https://putusan3.mahkamahagung.go.id/direktori/putusan/zaecf5eb402f6a42ab12313433323038.html\n",
            "https://putusan3.mahkamahagung.go.id/direktori/putusan/zaeca98576310b58a8db303931323032.html\n",
            "https://putusan3.mahkamahagung.go.id/direktori/putusan/zaeca9856203acb2b691303931313238.html\n",
            "https://putusan3.mahkamahagung.go.id/direktori/putusan/zaed6bcbe716ee569553313434353031.html\n",
            "https://putusan3.mahkamahagung.go.id/direktori/putusan/zaed0be211ba5930bfa1313332313530.html\n",
            "https://putusan3.mahkamahagung.go.id/direktori/putusan/zaec79c6674d3cd6ab88313435353538.html\n",
            "https://putusan3.mahkamahagung.go.id/direktori/putusan/zaecf102b29fa4409ea9303833373233.html\n",
            "https://putusan3.mahkamahagung.go.id/direktori/putusan/zaec79c6633f049eac7d313435353531.html\n",
            "https://putusan3.mahkamahagung.go.id/direktori/putusan/zaeca4e971f01b2e80a3313232353038.html\n",
            "https://putusan3.mahkamahagung.go.id/direktori/putusan/zaed859b9532cf4ea5dd313130343338.html\n",
            "https://putusan3.mahkamahagung.go.id/direktori/putusan/zaeca9856c7c0888a2b3303931313435.html\n",
            "https://putusan3.mahkamahagung.go.id/direktori/putusan/zaeca98574fe0dc6a71a303931323030.html\n",
            "https://putusan3.mahkamahagung.go.id/direktori/putusan/zaed389a30e9c45abb14313131303431.html\n",
            "https://putusan3.mahkamahagung.go.id/direktori/putusan/zaecf102b45c74529a1a303833373235.html\n",
            "https://putusan3.mahkamahagung.go.id/direktori/putusan/zaed0be1f959f6acad3d313332313039.html\n",
            "https://putusan3.mahkamahagung.go.id/direktori/putusan/zaecf5eb4395e120c0b2313433323134.html\n",
            "https://putusan3.mahkamahagung.go.id/direktori/putusan/zaed034dd3883aa28336313532303331.html\n",
            "https://putusan3.mahkamahagung.go.id/direktori/putusan/zaecf5eb3676f02e8f8b313433313532.html\n",
            "https://putusan3.mahkamahagung.go.id/direktori/putusan/zaeca4e94868834aa415313232333539.html\n",
            "https://putusan3.mahkamahagung.go.id/direktori/putusan/zaecf5eaf6fea284a278313433303035.html\n",
            "https://putusan3.mahkamahagung.go.id/direktori/putusan/zaed859b929488feac61313130343334.html\n"
          ]
        }
      ]
    },
    {
      "cell_type": "code",
      "source": [
        "def getpdflink(list_urls):\n",
        "  hrefs = []\n",
        "  # Loop melalui setiap link yang ada pada 'listed_pages'\n",
        "  for link in list_urls:\n",
        "    driver.get(link)\n",
        "\n",
        "    # Mencari elemen <div> dengan ID 'collapseThree'\n",
        "    collapseThree_element = driver.find_element(By.ID, 'collapseThree')\n",
        "\n",
        "    # Mencari elemen <ul> dalam elemen <div>\n",
        "    ul_element = collapseThree_element.find_element(By.TAG_NAME, 'ul')\n",
        "\n",
        "    # Mencari semua elemen <li> dalam elemen <ul>\n",
        "    li_elements = ul_element.find_elements(By.TAG_NAME, 'li')\n",
        "\n",
        "    for li_element in li_elements:\n",
        "        a_elements = li_element.find_elements(By.TAG_NAME, 'a')\n",
        "\n",
        "        for a_element in a_elements:\n",
        "            text = a_element.text\n",
        "            # Menambahkan kondisi untuk memeriksa apakah teks diakhiri dengan \".pdf\"\n",
        "            if text.endswith('.pdf'):\n",
        "                href = a_element.get_attribute('href')\n",
        "                hrefs.append(href)\n",
        "\n",
        "  return hrefs"
      ],
      "metadata": {
        "id": "YsGt8jpT3ks5"
      },
      "execution_count": null,
      "outputs": []
    },
    {
      "cell_type": "code",
      "source": [
        "# Menampilkan semua link download pdf yang didapat\n",
        "all_link = getpdflink(list(pages))\n",
        "for href in all_link:\n",
        "  print(href)"
      ],
      "metadata": {
        "colab": {
          "base_uri": "https://localhost:8080/"
        },
        "id": "URzjDSW17iBS",
        "outputId": "29b6d364-8ddf-4612-f51e-7d05fe47fb68"
      },
      "execution_count": null,
      "outputs": [
        {
          "output_type": "stream",
          "name": "stdout",
          "text": [
            "https://putusan3.mahkamahagung.go.id/direktori/download_file/72cead058a3208f584ce408d1508172c/pdf/zaed42daa82ee1cca6af313231373231\n",
            "https://putusan3.mahkamahagung.go.id/direktori/download_file/0d8b90b5f29a3cb4092d781a41999be8/pdf/zaed28f77b97278eb04c313333383131\n",
            "https://putusan3.mahkamahagung.go.id/direktori/download_file/6f33ce34df52ccb3ec9bdff546b9ba34/pdf/zaecf5eb30bbd64a945a313433313432\n",
            "https://putusan3.mahkamahagung.go.id/direktori/download_file/868720ce2edeb222d4ba3134f1da0f01/pdf/zaed74717a47f2449d0b313435303235\n",
            "https://putusan3.mahkamahagung.go.id/direktori/download_file/868c4c4d92f1dd8f237db3724c55bb06/pdf/zaed859bbd739ed484ac313130353436\n",
            "https://putusan3.mahkamahagung.go.id/direktori/download_file/fe2d384fca8d8f5b7e1f45cb51cea75c/pdf/zaed6bcbde996ccc906f313434343437\n",
            "https://putusan3.mahkamahagung.go.id/direktori/download_file/5d0e9029be1e162aaa3474ffe8805472/pdf/zaed1d034a759ece9a56303833323238\n",
            "https://putusan3.mahkamahagung.go.id/direktori/download_file/336966f7fbfe539db5a397bcaa2c955a/pdf/zaed49f6a20bbfd69578313332353134\n",
            "https://putusan3.mahkamahagung.go.id/direktori/download_file/bb1d519a7e0dac5c391cd4492e0e6bed/pdf/zaeca98577de040698d7303931323034\n",
            "https://putusan3.mahkamahagung.go.id/direktori/download_file/e87154c47a66161c7f3284983b108051/pdf/zaeca4e9497dd46aad27313232343030\n",
            "https://putusan3.mahkamahagung.go.id/direktori/download_file/bc62a036ad343945315dcea619caf953/pdf/zaed59bd547f2754ac35313531353231\n",
            "https://putusan3.mahkamahagung.go.id/direktori/download_file/08211c22cde1b82f46fac9d3a5000811/pdf/zaed28f76ad0abfaaf2d313333373433\n",
            "https://putusan3.mahkamahagung.go.id/direktori/download_file/e0f3899e2ffad5315efde3fb2d3ae890/pdf/zaed49f693f41a88ada0313332343531\n",
            "https://putusan3.mahkamahagung.go.id/direktori/download_file/ebb8ebc82abe749a06711d60218d74bb/pdf/zaecf5eb26de726886b8313433313235\n",
            "https://putusan3.mahkamahagung.go.id/direktori/download_file/4b1958a0af97044762c077157e23672a/pdf/zaed28f76c94ac168dab313333373436\n",
            "https://putusan3.mahkamahagung.go.id/direktori/download_file/45774386c0ae56c02df8c522a4649cd7/pdf/zaec79c65d3af8789553313435353431\n",
            "https://putusan3.mahkamahagung.go.id/direktori/download_file/8c514d936e9c2e3e4ac5ef526082baf1/pdf/zaed65872b23fc388a83313531373533\n",
            "https://putusan3.mahkamahagung.go.id/direktori/download_file/102bde2d5ad63bfd9c540a032d617a16/pdf/zaed859b93dc6ca4ac94313130343336\n",
            "https://putusan3.mahkamahagung.go.id/direktori/download_file/2ef435f332ba08f69d3da1fa2d4250e3/pdf/zaed59bd805545c090a0313531363335\n",
            "https://putusan3.mahkamahagung.go.id/direktori/download_file/4f966c5344c157bbdaf11655b6244525/pdf/zaed389a389af8b8a174313131303534\n",
            "https://putusan3.mahkamahagung.go.id/direktori/download_file/ed16bee395b19fc9a15e77fa6e72b466/pdf/zaed389a2f6437149d94313131303338\n",
            "https://putusan3.mahkamahagung.go.id/direktori/download_file/b16af9c22ea5b224176af50d9048a884/pdf/zaed776a6331ff7ca087303933373133\n",
            "https://putusan3.mahkamahagung.go.id/direktori/download_file/9630003c9b58daefbef2c0f4d1077132/pdf/zaecf102b6178ae8a28b303833373238\n",
            "https://putusan3.mahkamahagung.go.id/direktori/download_file/5cf69a6d092729eabbc09ed0ea9dc1a9/pdf/zaed49f6924d645abfd2313332343438\n",
            "https://putusan3.mahkamahagung.go.id/direktori/download_file/39b33b40d561fe931537b32ff9973f75/pdf/zaed28f76f2ed816a222313333373530\n",
            "https://putusan3.mahkamahagung.go.id/direktori/download_file/da2038778ce392b44d1ad380cc93961b/pdf/zaeca4e94ad0e762a6dd313232343033\n",
            "https://putusan3.mahkamahagung.go.id/direktori/download_file/ec07730f5ca0cd335f7efcf5cbe7eabd/pdf/zaeca9857a671992b6c2303931323039\n",
            "https://putusan3.mahkamahagung.go.id/direktori/download_file/b5d6f27cf72de1a0d89c3f7e4f67c966/pdf/zaed0be1fa3cc86aaa95313332313131\n",
            "https://putusan3.mahkamahagung.go.id/direktori/download_file/3091e4df34dfa3ae241dc4d896ba5cd5/pdf/zaed28f76ba92dae80e5313333373434\n",
            "https://putusan3.mahkamahagung.go.id/direktori/download_file/884f8953d8f6a919f487297326f8ad08/pdf/zaed034dd214968e98ad313532303239\n",
            "https://putusan3.mahkamahagung.go.id/direktori/download_file/93c1eeb13cc369a027a4d64161d567c2/pdf/zaeca9856e18512ebb5f303931313438\n",
            "https://putusan3.mahkamahagung.go.id/direktori/download_file/e695f2184de095523ebc33d63f2b20a5/pdf/zaec79c67aa836a09ce9313435363330\n",
            "https://putusan3.mahkamahagung.go.id/direktori/download_file/7aa2d62118860bc8a2cd2b03933c5878/pdf/zaed0cb1d3b82d9494a9313430393031\n",
            "https://putusan3.mahkamahagung.go.id/direktori/download_file/06255f84e9768e198dd804b3ee34c68d/pdf/zaecf780db3140e29831313435353334\n",
            "https://putusan3.mahkamahagung.go.id/direktori/download_file/aa8eb07156eb9638452b3841b82aba66/pdf/zaecf780d4cd7586bb5b313435353233\n",
            "https://putusan3.mahkamahagung.go.id/direktori/download_file/b9e899ee99422e022494512967008239/pdf/zaed6bcbe62ead44a374313434353030\n",
            "https://putusan3.mahkamahagung.go.id/direktori/download_file/49d2fb34277cd503c0f8ce7a4647789c/pdf/zaecf5eb155a96f29881313433303536\n",
            "https://putusan3.mahkamahagung.go.id/direktori/download_file/9d718b601e50bf8b91d3c6bcabaee031/pdf/zaecf103095c1516951c303833393438\n",
            "https://putusan3.mahkamahagung.go.id/direktori/download_file/1cae337bda39d376617cf709af322ea8/pdf/zaeca98573c04b228150303931313537\n",
            "https://putusan3.mahkamahagung.go.id/direktori/download_file/504be831699ac42f98685077ddb68f97/pdf/zaed0cb1c4fe9ec88a79313430383337\n",
            "https://putusan3.mahkamahagung.go.id/direktori/download_file/e08cc8094d474bbc55fead0ed5408aae/pdf/zaeca985630e48929116303931313239\n",
            "https://putusan3.mahkamahagung.go.id/direktori/download_file/f1320c4ddb1d4aa991cf0f7d377ae3fc/pdf/zaecf5eb24e3beb48eef313433313232\n",
            "https://putusan3.mahkamahagung.go.id/direktori/download_file/03f51e8512ea99fc553a0c46e7d33482/pdf/zaecf5eb38b90f8484b5313433313535\n",
            "https://putusan3.mahkamahagung.go.id/direktori/download_file/8727940ecfa383e85b51b13beba4b6d9/pdf/zaecf5eb402f6a42ab12313433323038\n",
            "https://putusan3.mahkamahagung.go.id/direktori/download_file/4456cc616958135984d0bc4dd97cf64d/pdf/zaeca98576310b58a8db303931323032\n",
            "https://putusan3.mahkamahagung.go.id/direktori/download_file/1fe8019a7ce2c1078d2b7d7ebc06f975/pdf/zaeca9856203acb2b691303931313238\n",
            "https://putusan3.mahkamahagung.go.id/direktori/download_file/5d894eda924fd14c18717a60af08731e/pdf/zaed6bcbe716ee569553313434353031\n",
            "https://putusan3.mahkamahagung.go.id/direktori/download_file/d83e264e14f200ee5e4ca70aa88d1bb4/pdf/zaed0be211ba5930bfa1313332313530\n",
            "https://putusan3.mahkamahagung.go.id/direktori/download_file/112c40b278173c4c1e4298cb7cd16f63/pdf/zaec79c6674d3cd6ab88313435353538\n",
            "https://putusan3.mahkamahagung.go.id/direktori/download_file/a75ea0da6746e911ca60f6bf1cc56a38/pdf/zaecf102b29fa4409ea9303833373233\n",
            "https://putusan3.mahkamahagung.go.id/direktori/download_file/57046f238f911c886a8fb0fdbbea397a/pdf/zaec79c6633f049eac7d313435353531\n",
            "https://putusan3.mahkamahagung.go.id/direktori/download_file/1f4bfb4f1795be733092e74d50f7a114/pdf/zaeca4e971f01b2e80a3313232353038\n",
            "https://putusan3.mahkamahagung.go.id/direktori/download_file/3a4d7264dfc3ada6fee4742f1070f8a3/pdf/zaed859b9532cf4ea5dd313130343338\n",
            "https://putusan3.mahkamahagung.go.id/direktori/download_file/82f4fd4ab991b149725b108fb018d39d/pdf/zaeca9856c7c0888a2b3303931313435\n",
            "https://putusan3.mahkamahagung.go.id/direktori/download_file/d5af31db49c1cd790f2eae0bc776c2f2/pdf/zaeca98574fe0dc6a71a303931323030\n",
            "https://putusan3.mahkamahagung.go.id/direktori/download_file/c0f48d0a7558fd97ad6b6731a8a8bc91/pdf/zaed389a30e9c45abb14313131303431\n",
            "https://putusan3.mahkamahagung.go.id/direktori/download_file/1d32f618cc4b56296691ddbe58031c32/pdf/zaecf102b45c74529a1a303833373235\n",
            "https://putusan3.mahkamahagung.go.id/direktori/download_file/0504595932b830f24abc1b80f2c41aec/pdf/zaed0be1f959f6acad3d313332313039\n",
            "https://putusan3.mahkamahagung.go.id/direktori/download_file/d00a87c1a0df077df7de0bb20ae25e72/pdf/zaecf5eb4395e120c0b2313433323134\n",
            "https://putusan3.mahkamahagung.go.id/direktori/download_file/e84d96c32f3ff08d0193c790cea3809c/pdf/zaed034dd3883aa28336313532303331\n",
            "https://putusan3.mahkamahagung.go.id/direktori/download_file/86003c4635c6879783aab67dc1fc6bb7/pdf/zaecf5eb3676f02e8f8b313433313532\n",
            "https://putusan3.mahkamahagung.go.id/direktori/download_file/31884797d3149350292abf8a5295bded/pdf/zaeca4e94868834aa415313232333539\n",
            "https://putusan3.mahkamahagung.go.id/direktori/download_file/e4cbeb04a924385b8554dc4632e9020e/pdf/zaecf5eaf6fea284a278313433303035\n",
            "https://putusan3.mahkamahagung.go.id/direktori/download_file/a9cad271f42d7e95137385d4283106e5/pdf/zaed859b929488feac61313130343334\n"
          ]
        }
      ]
    },
    {
      "cell_type": "code",
      "source": [
        "from google.colab import drive\n",
        "drive.mount('/content/gdrive')"
      ],
      "metadata": {
        "colab": {
          "base_uri": "https://localhost:8080/"
        },
        "id": "l0Vphz1LvnSf",
        "outputId": "1b6b8a9d-3588-4ad0-84b1-0d3b060e5227"
      },
      "execution_count": null,
      "outputs": [
        {
          "output_type": "stream",
          "name": "stdout",
          "text": [
            "Mounted at /content/gdrive\n"
          ]
        }
      ]
    },
    {
      "cell_type": "code",
      "source": [
        "# Download semua file dan disimpan ke Google Drive\n",
        "for fileurl in all_link:\n",
        "  filename = os.path.basename(fileurl)\n",
        "  r = requests.get(fileurl, stream = True)\n",
        "\n",
        "  with open(f'/content/gdrive/My Drive/Colab Notebooks/Temu Kembali Informasi/Dataset/{filename}.pdf', 'wb') as file:\n",
        "    for block in r.iter_content(chunk_size = 1024):\n",
        "      if block:\n",
        "        file.write(block)"
      ],
      "metadata": {
        "id": "-3Ih3vUl5Ktw"
      },
      "execution_count": null,
      "outputs": []
    }
  ]
}